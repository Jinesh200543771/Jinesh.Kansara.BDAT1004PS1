{
 "cells": [
  {
   "cell_type": "markdown",
   "id": "cf1855bd-b824-4ab8-8b87-8bda35b79e4a",
   "metadata": {},
   "source": [
    "\n",
    "## Data Programming - BDAT 1004 - Section 2 - Problem Set 1\n",
    "\n",
    "### Student Name: Jinesh Kansara\n",
    "\n",
    "### Student Id : 200543771\n"
   ]
  },
  {
   "cell_type": "markdown",
   "id": "9cfe2941-994d-4644-95e5-39c857b5074c",
   "metadata": {},
   "source": [
    "### Question 1: "
   ]
  },
  {
   "cell_type": "code",
   "execution_count": 1,
   "id": "8e9cdf76-be4a-451e-be6d-69c8a38fd6a6",
   "metadata": {},
   "outputs": [
    {
     "name": "stdout",
     "output_type": "stream",
     "text": [
      "Data Type of 5 is  =>  <class 'int'>\n",
      "Data Type of 5.0 is  =>  <class 'float'>\n",
      "Data Type of 5 > 1 is  =>  <class 'bool'>\n",
      "Data Type of '5' is  =>  <class 'str'>\n",
      "Data Type of 5*2 is  =>  <class 'int'>\n",
      "Data Type of '5'+ '2' is  =>  <class 'str'>\n",
      "Data Type of 5 / 2  is  =>  <class 'float'>\n",
      "Data Type of 5 % 2 is  =>  <class 'int'>\n",
      "Data Type of {5 ,2, 1 } is  =>  <class 'set'>\n",
      "Data Type of 5 == 3 is  =>  <class 'bool'>\n",
      "Data Type of PI is  =>  <class 'float'>\n"
     ]
    }
   ],
   "source": [
    "print(\"Data Type of 5 is  => \", type(5))\n",
    "print(\"Data Type of 5.0 is  => \", type(5.0))\n",
    "print(\"Data Type of 5 > 1 is  => \", type(5 > 1))\n",
    "print(\"Data Type of '5' is  => \", type('5'))\n",
    "print(\"Data Type of 5*2 is  => \", type(5 * 2))\n",
    "print(\"Data Type of '5'+ '2' is  => \", type('5' + '2'))\n",
    "print(\"Data Type of 5 / 2  is  => \", type(5 / 2))\n",
    "print(\"Data Type of 5 % 2 is  => \", type(5 % 2))\n",
    "print(\"Data Type of {5 ,2, 1 } is  => \", type({5, 2, 1}))\n",
    "print(\"Data Type of 5 == 3 is  => \", type(5 == 3))\n",
    "print(\"Data Type of PI is  => \", type(3.14))"
   ]
  },
  {
   "cell_type": "markdown",
   "id": "3db4dcce-2885-4e24-b645-f0dd1b28a98a",
   "metadata": {},
   "source": [
    "### Question 2 (A)"
   ]
  },
  {
   "cell_type": "code",
   "execution_count": 2,
   "id": "3abc207c-962a-473d-800e-9fd1da0a4698",
   "metadata": {},
   "outputs": [
    {
     "name": "stdout",
     "output_type": "stream",
     "text": [
      "Number of Letters in  Supercalifragilisticexpialidocious is => 34\n"
     ]
    }
   ],
   "source": [
    "var1 = 'Supercalifragilisticexpialidocious' #Declared String as a variable and used len() function to count total letters\n",
    "\n",
    "print(\"Number of Letters in \", var1, \"is =>\", len(var1)) "
   ]
  },
  {
   "cell_type": "markdown",
   "id": "b25d3ef7-12f1-4ac7-8ade-838ebae21ad7",
   "metadata": {},
   "source": [
    "### Question 2 (B)"
   ]
  },
  {
   "cell_type": "code",
   "execution_count": 3,
   "id": "fe5d1c66-d5e4-4e64-a4ba-7ca822f10b33",
   "metadata": {},
   "outputs": [
    {
     "name": "stdout",
     "output_type": "stream",
     "text": [
      "Supercalifragilisticexpialidocious Contains 'ice' as a substring\n"
     ]
    }
   ],
   "source": [
    "var1 = 'Supercalifragilisticexpialidocious'\n",
    "var2 = 'ice'\n",
    "\n",
    "if var2 in var1:\n",
    "    print(var1, \"Contains 'ice' as a substring\")\n",
    "else:\n",
    "    print(var1, \" Does Not Contain 'ice' as a substring\")"
   ]
  },
  {
   "cell_type": "markdown",
   "id": "5733f76f-7e14-480e-8bdc-df702b172c1c",
   "metadata": {},
   "source": [
    "### Question 2 (C)"
   ]
  },
  {
   "cell_type": "code",
   "execution_count": 4,
   "id": "a48c1e35-35b3-4372-9aa0-9967eac4753a",
   "metadata": {},
   "outputs": [
    {
     "name": "stdout",
     "output_type": "stream",
     "text": [
      "The Largest word among given words is:  Bababadalgharaghtakamminarronnkonn\n"
     ]
    }
   ],
   "source": [
    "var1 = 'Supercalifragilisticexpialidocious'\n",
    "var2 = 'Honorificabilitudinitatibus'\n",
    "var3 = 'Bababadalgharaghtakamminarronnkonn'\n",
    "\n",
    "#Find the Largest word among given three strings \n",
    "\n",
    "if ((len(var1) > len(var2)) & (len(var1) > len(var3))):\n",
    "    print(\"The Largest word among given words is: \", var1)\n",
    "    \n",
    "elif ((len(var2) > len(var1)) & (len(var2) > len(var1))):\n",
    "    print(\"The Largest word among given words is: \", var2)\n",
    "    \n",
    "else:\n",
    "    print(\"The Largest word among given words is: \", var3)"
   ]
  },
  {
   "cell_type": "markdown",
   "id": "74f3663e-d280-49e9-ab22-f0a6236ab8ab",
   "metadata": {},
   "source": [
    "### Question 2 (D)"
   ]
  },
  {
   "cell_type": "code",
   "execution_count": 5,
   "id": "fa94d7df-f396-4445-bcc2-b624d2292a3b",
   "metadata": {},
   "outputs": [
    {
     "name": "stdout",
     "output_type": "stream",
     "text": [
      "The First Composer in the Dictionary Is:  Bartok\n",
      "The Last Composer in the Dictionary Is:  Buxtehude\n"
     ]
    }
   ],
   "source": [
    "# Defined dictionary for composers\n",
    "\n",
    "dict = {\n",
    "    \"composer1\": \"Berlioz\",\n",
    "    \"composer2\": \"Borodin\",\n",
    "    \"composer3\": \"Brian\",\n",
    "    \"composer4\": \"Bartok\",\n",
    "    \"composer5\": \"Bellini\",\n",
    "    \"composer6\": \"Buxtehude\",\n",
    "    \"composer7\": \"Bernstein\",\n",
    "}\n",
    "\n",
    "# Collected values of a composer dictionary in a list\n",
    "values = list(dict.values())\n",
    "\n",
    "#used python sort() to sort the list\n",
    "values.sort()\n",
    "\n",
    "print(\"The First Composer in the Dictionary Is: \", values[0]) #first element of the list values \n",
    "print(\"The Last Composer in the Dictionary Is: \", values[(len(values) - 1)]) #last element of the list values"
   ]
  },
  {
   "cell_type": "markdown",
   "id": "678622aa-a99f-4e14-8f16-4c2a1702aa03",
   "metadata": {},
   "source": [
    "### Question 3\n"
   ]
  },
  {
   "cell_type": "code",
   "execution_count": 6,
   "id": "de20079c-8e3a-4bd2-a33e-014c568ac19b",
   "metadata": {},
   "outputs": [
    {
     "name": "stdin",
     "output_type": "stream",
     "text": [
      "Enter the length of the First side of Triangle :  2\n",
      "Enter the length of the Second side of Triangle:  2\n",
      "Enter the length of the Third side of Triangle:  2\n"
     ]
    },
    {
     "name": "stdout",
     "output_type": "stream",
     "text": [
      "Area of Traingle with Given Sides 2 2 2 is => 1.7320508075688772\n"
     ]
    }
   ],
   "source": [
    "import math\n",
    "\n",
    "#user input for 3 sides of triangle\n",
    "a = int(input(\"Enter the length of the First side of Triangle : \"))\n",
    "b = int(input(\"Enter the length of the Second side of Triangle: \"))\n",
    "c = int(input(\"Enter the length of the Third side of Triangle: \"))\n",
    "\n",
    "\n",
    "def triangleArea(a, b, c):   #Defined function triangleArea\n",
    "    s = (a + b + c) / 2\n",
    "    areaofT = math.sqrt((s * (s - a) * (s - b) * (s - c)))\n",
    "    print(\"Area of Traingle with Given Sides\", a, b, c, \"is =>\", areaofT)\n",
    "\n",
    "\n",
    "triangleArea(a, b, c) #fucntion call"
   ]
  },
  {
   "cell_type": "markdown",
   "id": "00fa56b7-40ca-4125-a3c3-779b5fa30494",
   "metadata": {},
   "source": [
    "### Question 4\n"
   ]
  },
  {
   "cell_type": "code",
   "execution_count": 8,
   "id": "a7d90c1e-ffab-4d7a-b9fd-7d14d4acf56d",
   "metadata": {},
   "outputs": [
    {
     "name": "stdin",
     "output_type": "stream",
     "text": [
      "Number of elements in array: 5\n",
      "Enter Elements 25\n",
      "Enter Elements 47\n",
      "Enter Elements 42\n",
      "Enter Elements 56\n",
      "Enter Elements 32\n"
     ]
    },
    {
     "name": "stdout",
     "output_type": "stream",
     "text": [
      "odd Elements in Given Array are: [25, 47]\n",
      "Even Elements in Given Array are: [42, 56, 32]\n"
     ]
    }
   ],
   "source": [
    "array=[]\n",
    "even=[]\n",
    "odd=[]\n",
    "\n",
    "#array declaration \n",
    "\n",
    "len_array=int(input(\"Number of elements in array:\"))\n",
    "\n",
    "for i in range(0,len_array):\n",
    "   element_array=int(input(\"Enter Elements\"))\n",
    "   array.append(element_array)\n",
    "    \n",
    "#user input for number of array length and array elements\n",
    "\n",
    "for j in array:\n",
    "    if j % 2 == 0:    #modulo operator to define even elements with in (if-else block)\n",
    "        even.append(j)\n",
    "    else:\n",
    "        odd.append(j)\n",
    "\n",
    "print(\"odd Elements in Given Array are:\", odd)\n",
    "    \n",
    "print(\"Even Elements in Given Array are:\",even)"
   ]
  },
  {
   "cell_type": "markdown",
   "id": "fdc6a0ea-d5b2-43b4-865e-467d91adcb0e",
   "metadata": {},
   "source": [
    "### Question 5 (A)"
   ]
  },
  {
   "cell_type": "code",
   "execution_count": 10,
   "id": "ccbc76e8-78f2-40fa-a63e-d485f1ba12cd",
   "metadata": {},
   "outputs": [
    {
     "name": "stdout",
     "output_type": "stream",
     "text": [
      "True\n",
      "False\n"
     ]
    }
   ],
   "source": [
    "def inside(x, y, x1, y1, x2, y2):\n",
    "    if (x > x1 and x < x2) and (y > y1 and y < y2):  #condition to varify (x,y) lies between (x1,y1) and (x2,y2) or not\n",
    "        print(\"True\")\n",
    "    else:\n",
    "        print(\"False\")\n",
    "\n",
    "\n",
    "inside(1, 1, 0, 0, 2, 3)\n",
    "inside(-1, -1, 0, 0, 2, 3)"
   ]
  },
  {
   "cell_type": "markdown",
   "id": "a358dd35-4633-442f-bc91-8ee44452420c",
   "metadata": {},
   "source": [
    "### Question 5 (B)"
   ]
  },
  {
   "cell_type": "code",
   "execution_count": 11,
   "id": "c2064df2-f8a2-4bdb-bc11-ae8fac2ef324",
   "metadata": {},
   "outputs": [
    {
     "name": "stdout",
     "output_type": "stream",
     "text": [
      "False\n"
     ]
    }
   ],
   "source": [
    "def inside(x, y, x1, y1, x2, y2, x3, y3, x4, y4):\n",
    "    if (x > x1 and x < x2) and (y > y1 and y < y2):\n",
    "        if (x > x3 and x < x4) and (y > y3 and y < y4): #condition to varify (x,y) lies in two different recntagle co-ordinates or not\n",
    "            print(\"True\")\n",
    "    else:\n",
    "        print(\"False\")\n",
    "\n",
    "\n",
    "inside(1, 1, 0.3, 0.5, 1.1, 0.7, 0.5, 0.2, 1.1, 2)"
   ]
  },
  {
   "cell_type": "markdown",
   "id": "91516d59-eaf4-43b0-a8e3-5462b910431c",
   "metadata": {},
   "source": [
    "### Question 6"
   ]
  },
  {
   "cell_type": "code",
   "execution_count": 12,
   "id": "8a6ea420-24d3-421f-98ea-5d2a94ac151d",
   "metadata": {},
   "outputs": [
    {
     "name": "stdout",
     "output_type": "stream",
     "text": [
      "appyhay\n",
      "enterway\n"
     ]
    }
   ],
   "source": [
    "def pig(word):\n",
    "    vovel = ('a', 'e', 'i', 'o', 'u')\n",
    "    length_word = len(word)\n",
    "    lower_case = word.lower()\n",
    "    first_letter = lower_case[0]\n",
    "\n",
    "    if first_letter in vovel:\n",
    "        print(lower_case + \"way\")     #if word start with vovel it will append 'way' at the end of the word\n",
    "    else:\n",
    "        print(lower_case[1:length_word] + first_letter + \"ay\") #if word start will consonant it will move first word to last and append 'ay'\n",
    "\n",
    "\n",
    "pig('Happy')\n",
    "pig('Enter')\n"
   ]
  },
  {
   "cell_type": "markdown",
   "id": "12e31eba-e671-44c2-9fb5-87a107618259",
   "metadata": {},
   "source": [
    "### Question 7"
   ]
  },
  {
   "cell_type": "code",
   "execution_count": 13,
   "id": "4781cd50-d5fe-4d5a-a49a-c6c2b433a443",
   "metadata": {},
   "outputs": [
    {
     "name": "stdout",
     "output_type": "stream",
     "text": [
      "There are  28 Patients of Blood Type A\n",
      "There are  14 Patients of Blood Type B\n",
      "There are  13 Patients of Blood Type AB\n",
      "There are  15 Patients of Blood Type O\n",
      "There is NO Patient of Blood Type OO\n"
     ]
    }
   ],
   "source": [
    "def bldcount(bldtype):\n",
    "    f = open(bldtype, \"r\")\n",
    "    file=f.read()\n",
    "\n",
    "    def patientcount(blood_group):  #defined nested function to print number of patient for blood group\n",
    "\n",
    "        if file.count(blood_group)==1:\n",
    "            print(\"There is \", file.count(blood_group), \"Patient of Blood Type\",blood_group)\n",
    "        elif file.count(blood_group)==0:\n",
    "            print(\"There is NO Patient of Blood Type\", blood_group)\n",
    "        else:\n",
    "            print(\"There are \", file.count(blood_group), \"Patients of Blood Type\",blood_group)\n",
    "\n",
    "    patientcount('A')\n",
    "    patientcount('B')\n",
    "    patientcount('AB')\n",
    "    patientcount('O')\n",
    "    patientcount('OO')\n",
    "\n",
    "\n",
    "bldcount(\"bloodtype1.txt\") "
   ]
  },
  {
   "cell_type": "markdown",
   "id": "71dad44b-07a7-4bc9-82cb-005f18aa0678",
   "metadata": {},
   "source": [
    "### Question 8"
   ]
  },
  {
   "cell_type": "code",
   "execution_count": 32,
   "id": "56ca404e-82d4-4ef3-8e61-972eaa51550e",
   "metadata": {},
   "outputs": [
    {
     "name": "stdout",
     "output_type": "stream",
     "text": [
      "122.96544\n",
      "1.241401\n"
     ]
    }
   ],
   "source": [
    "def curconv(currency,amount):\n",
    "    f = open(\"currencies.txt\", \"r\")\n",
    "    currencyUpper = currency.upper() \n",
    "    #convert user input of currency type to upper case\n",
    "    \n",
    "    L = f.readlines() \n",
    "    #read line of text data\n",
    "\n",
    "    for i in L:\n",
    "        L2 = i.split() \n",
    "        #store each line as a list element\n",
    "        \n",
    "        if currencyUpper in L2:\n",
    "            words=i.split() \n",
    "            #store each element of a line as a list element where currency will be matched as user input\n",
    "            print(float(words[1])*amount)\n",
    "\n",
    "curconv('EUR',100)\n",
    "curconv('JPY',100)"
   ]
  },
  {
   "cell_type": "markdown",
   "id": "7bd32a0d-1090-4b51-b6c9-ed20ccd65353",
   "metadata": {},
   "source": [
    "### Question 9\n"
   ]
  },
  {
   "cell_type": "markdown",
   "id": "7793828d-6d91-4d01-8f8f-639d52e3f906",
   "metadata": {},
   "source": [
    "#### Trying to add Incompatible Variables: (Type Error)"
   ]
  },
  {
   "cell_type": "code",
   "execution_count": 24,
   "id": "6d4ec3bc-3db4-4171-b04d-dd8cc7084970",
   "metadata": {},
   "outputs": [
    {
     "name": "stdout",
     "output_type": "stream",
     "text": [
      "TypeError\n"
     ]
    }
   ],
   "source": [
    "try:\n",
    "   6 + 'a'\n",
    "\n",
    "except Exception as exe:\n",
    "    print(type(exe).__name__)"
   ]
  },
  {
   "cell_type": "markdown",
   "id": "d91bdd34-f632-46fd-887d-0c5146a3116f",
   "metadata": {},
   "source": [
    "#### Referring to 12th Item of the list that has only 10 items: (Index Error)"
   ]
  },
  {
   "cell_type": "code",
   "execution_count": 27,
   "id": "db6bd247-c01b-46ff-8dc6-c6c1b1c28d1e",
   "metadata": {},
   "outputs": [
    {
     "name": "stdout",
     "output_type": "stream",
     "text": [
      "IndexError\n"
     ]
    }
   ],
   "source": [
    "try:\n",
    "    l1=[0,1,2,3,4,5,6,7,8,9]\n",
    "    print(l1[11])\n",
    "\n",
    "except Exception as exe:\n",
    "    print(type(exe).__name__)\n"
   ]
  },
  {
   "cell_type": "markdown",
   "id": "8fb5f5fd-0ff3-4b40-94a9-6547b2581286",
   "metadata": {},
   "source": [
    "#### Using a value that is out of range for a function: (Type Error)"
   ]
  },
  {
   "cell_type": "code",
   "execution_count": 28,
   "id": "7e8b6854-c264-44ab-9e28-35f06006f50f",
   "metadata": {},
   "outputs": [
    {
     "name": "stdout",
     "output_type": "stream",
     "text": [
      "TypeError\n"
     ]
    }
   ],
   "source": [
    "try:\n",
    "    math.sqrt(-1,0)\n",
    "\n",
    "except Exception as exe:\n",
    "    print(type(exe).__name__)"
   ]
  },
  {
   "cell_type": "markdown",
   "id": "96b7e1ad-9bdf-410c-9dcf-c0002c65e60f",
   "metadata": {},
   "source": [
    "#### Using Undeclared Variable (Name Error)"
   ]
  },
  {
   "cell_type": "code",
   "execution_count": 29,
   "id": "2cbfa1dd-47dd-49fb-bf1a-c50b02246abb",
   "metadata": {},
   "outputs": [
    {
     "name": "stdout",
     "output_type": "stream",
     "text": [
      "NameError\n"
     ]
    }
   ],
   "source": [
    "try:\n",
    "    print(x)\n",
    "except Exception as exe:\n",
    "    print(type(exe).__name__)"
   ]
  },
  {
   "cell_type": "markdown",
   "id": "4bf5a2af-2b31-47f2-8fd5-e79ec715ae47",
   "metadata": {},
   "source": [
    "#### Misstyping a file name or wrong directory: (File Not Found Error)"
   ]
  },
  {
   "cell_type": "code",
   "execution_count": 30,
   "id": "b6537a5e-a1a4-445b-b930-5e79a448f11c",
   "metadata": {},
   "outputs": [
    {
     "name": "stdout",
     "output_type": "stream",
     "text": [
      "FileNotFoundError\n"
     ]
    }
   ],
   "source": [
    "try:\n",
    "    f=open(\"BDAT1004.txt\",\"r\")\n",
    "\n",
    "except Exception as exe:\n",
    "    print(type(exe).__name__)"
   ]
  },
  {
   "cell_type": "markdown",
   "id": "3b29e26b-e0cb-4d34-a332-84ea514e413c",
   "metadata": {},
   "source": [
    "### Question 10"
   ]
  },
  {
   "cell_type": "code",
   "execution_count": 23,
   "id": "574ee4d0-adb4-405c-b7d9-58c0446244c3",
   "metadata": {},
   "outputs": [
    {
     "name": "stdout",
     "output_type": "stream",
     "text": [
      "[2, 5, 1, 1, 1, 1, 1, 2, 5, 3, 1, 4, 1, 1, 4, 2, 1, 4, 2, 5, 3, 1, 2, 3, 1, 5, 2, 2, 2, 4, 1, 5]\n",
      "[1, 2, 2, 1, 1]\n"
     ]
    }
   ],
   "source": [
    "def frequency(givenString):\n",
    "    listFrequency = []\n",
    "    string = givenString.replace(\" \", \"\")  #remove white spaces from the string\n",
    "    letters = 'abcdefghijklmnopqrstuvwxyz'   #validation string\n",
    "    for i in string:\n",
    "        if i in letters: \n",
    "            frequency = string.count(i)\n",
    "            listFrequency.append(frequency)\n",
    "    print(listFrequency)\n",
    "\n",
    "#print occurance of each character and ignores all charachters which are not in given validation string\n",
    "frequency(\"The quick red fox got bored and went home.\") \n",
    "frequency(\"apple\")"
   ]
  },
  {
   "cell_type": "markdown",
   "id": "642db1c8-a831-4ade-8e60-92978d8a83a6",
   "metadata": {},
   "source": [
    "### ------------------------------- End of Submission ----------------------------"
   ]
  }
 ],
 "metadata": {
  "kernelspec": {
   "display_name": "Python 3 (ipykernel)",
   "language": "python",
   "name": "python3"
  },
  "language_info": {
   "codemirror_mode": {
    "name": "ipython",
    "version": 3
   },
   "file_extension": ".py",
   "mimetype": "text/x-python",
   "name": "python",
   "nbconvert_exporter": "python",
   "pygments_lexer": "ipython3",
   "version": "3.10.1"
  }
 },
 "nbformat": 4,
 "nbformat_minor": 5
}
